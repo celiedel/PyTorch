{
 "cells": [
  {
   "cell_type": "markdown",
   "metadata": {},
   "source": [
    "# CNN with PyTorch 2"
   ]
  },
  {
   "cell_type": "markdown",
   "metadata": {},
   "source": [
    "# Fashion-MNIST Classification\n",
    "\n",
    "Classification using Convolutional Neural Network with PyTorch\n"
   ]
  },
  {
   "cell_type": "markdown",
   "metadata": {},
   "source": [
    "## The Setup"
   ]
  },
  {
   "cell_type": "markdown",
   "metadata": {},
   "source": [
    "## PyTorch Modules"
   ]
  },
  {
   "cell_type": "code",
   "execution_count": 1,
   "metadata": {},
   "outputs": [
    {
     "data": {
      "text/plain": [
       "<torch._C.Generator at 0x26b531e56f0>"
      ]
     },
     "execution_count": 1,
     "metadata": {},
     "output_type": "execute_result"
    }
   ],
   "source": [
    "#!pip install torch\n",
    "#!pip install torchvision\n",
    "\n",
    "\n",
    "from torch.utils.data import Dataset, DataLoader\n",
    "\n",
    "from torchvision import transforms\n",
    "import torch \n",
    "import torch.nn as nn\n",
    "import torchvision.transforms as transforms\n",
    "import torchvision.datasets as dsets\n",
    "torch.manual_seed(0)\n"
   ]
  },
  {
   "cell_type": "markdown",
   "metadata": {},
   "source": [
    "## Additional modules"
   ]
  },
  {
   "cell_type": "code",
   "execution_count": 2,
   "metadata": {},
   "outputs": [],
   "source": [
    "from matplotlib.pyplot import imshow\n",
    "import matplotlib.pylab as plt\n",
    "\n",
    "from PIL import Image"
   ]
  },
  {
   "cell_type": "markdown",
   "metadata": {},
   "source": [
    "## Helper Function to Show an Image"
   ]
  },
  {
   "cell_type": "code",
   "execution_count": 3,
   "metadata": {},
   "outputs": [],
   "source": [
    "def show_data(data_sample):\n",
    "    plt.imshow(data_sample[0].numpy().reshape(IMAGE_SIZE, IMAGE_SIZE), cmap='gray')\n",
    "    plt.title('y = '+ str(data_sample[1]))"
   ]
  },
  {
   "cell_type": "markdown",
   "metadata": {},
   "source": [
    "## Download, Transform and Create Dataset Objects for Training and Validation"
   ]
  },
  {
   "cell_type": "code",
   "execution_count": 4,
   "metadata": {},
   "outputs": [],
   "source": [
    "# Resizing images from 28 x 28 and transforming to tensor\n",
    "\n",
    "IMAGE_SIZE = 16\n",
    "\n",
    "transforms.Resize((IMAGE_SIZE, IMAGE_SIZE)),\n",
    "transforms.ToTensor()\n",
    "composed = transforms.Compose([transforms.Resize((IMAGE_SIZE, IMAGE_SIZE)), transforms.ToTensor()])"
   ]
  },
  {
   "cell_type": "code",
   "execution_count": 6,
   "metadata": {},
   "outputs": [
    {
     "name": "stdout",
     "output_type": "stream",
     "text": [
      "Training: torch.Size([1, 16, 16])\n",
      "Validation: torch.Size([1, 16, 16])\n"
     ]
    }
   ],
   "source": [
    "# Creating the training and validation sets; checking the shape\n",
    "\n",
    "dataset_train = dsets.FashionMNIST(root = \"./data\", train = True, download = True, transform = composed)\n",
    "dataset_val = dsets.FashionMNIST(root = \"./data\", train = False, download = True, transform = composed)\n",
    "print('Training:', dataset_train[0][0].shape)\n",
    "print('Validation:',dataset_val[0][0].shape)"
   ]
  },
  {
   "cell_type": "markdown",
   "metadata": {},
   "source": [
    "## Check some images"
   ]
  },
  {
   "cell_type": "code",
   "execution_count": 7,
   "metadata": {},
   "outputs": [
    {
     "data": {
      "image/png": "[encoded data removed]",
      "text/plain": [
       "<Figure size 432x288 with 1 Axes>"
      ]
     },
     "metadata": {
      "needs_background": "light"
     },
     "output_type": "display_data"
    },
    {
     "data": {
      "image/png": "[encoded data removed]",
      "text/plain": [
       "<Figure size 432x288 with 1 Axes>"
      ]
     },
     "metadata": {
      "needs_background": "light"
     },
     "output_type": "display_data"
    },
    {
     "data": {
      "image/png": "[encoded data removed]",
      "text/plain": [
       "<Figure size 432x288 with 1 Axes>"
      ]
     },
     "metadata": {
      "needs_background": "light"
     },
     "output_type": "display_data"
    },
    {
     "data": {
      "image/png": "[encoded data removed]",
      "text/plain": [
       "<Figure size 432x288 with 1 Axes>"
      ]
     },
     "metadata": {
      "needs_background": "light"
     },
     "output_type": "display_data"
    }
   ],
   "source": [
    "for n,data_sample in enumerate(dataset_val):\n",
    "\n",
    "    show_data(data_sample)\n",
    "    plt.show()\n",
    "    if n==3:\n",
    "        break "
   ]
  },
  {
   "cell_type": "markdown",
   "metadata": {},
   "source": [
    "## Create a Convolutional Neural Network"
   ]
  },
  {
   "cell_type": "code",
   "execution_count": 9,
   "metadata": {},
   "outputs": [],
   "source": [
    "# Constructor using Batch Norm\n",
    "\n",
    "class CNN_batch(nn.Module):\n",
    "\n",
    "    def __init__(self, out_1=16, out_2=32,number_of_classes=10):\n",
    "        super(CNN_batch, self).__init__()\n",
    "        self.cnn1 = nn.Conv2d(in_channels=1, out_channels=out_1, kernel_size=5, padding=2)\n",
    "        self.conv1_bn = nn.BatchNorm2d(out_1)\n",
    "\n",
    "        self.maxpool1=nn.MaxPool2d(kernel_size=2)\n",
    "   \n",
    "        self.cnn2 = nn.Conv2d(in_channels=out_1, out_channels=out_2, kernel_size=5, stride=1, padding=2)\n",
    "        self.conv2_bn = nn.BatchNorm2d(out_2)\n",
    "\n",
    "        self.maxpool2=nn.MaxPool2d(kernel_size=2)\n",
    "        self.fc1 = nn.Linear(out_2 * 4 * 4, number_of_classes)\n",
    "        self.bn_fc1 = nn.BatchNorm1d(10)\n",
    "\n",
    "# Prediction\n",
    "    def forward(self, x):\n",
    "        x = self.cnn1(x)\n",
    "        x=self.conv1_bn(x)\n",
    "        x = torch.relu(x)\n",
    "        x = self.maxpool1(x)\n",
    "        x = self.cnn2(x)\n",
    "        x=self.conv2_bn(x)\n",
    "        x = torch.relu(x)\n",
    "        x = self.maxpool2(x)\n",
    "        x = x.view(x.size(0), -1)\n",
    "        x = self.fc1(x)\n",
    "        x=self.bn_fc1(x)\n",
    "        return x"
   ]
  },
  {
   "cell_type": "markdown",
   "metadata": {},
   "source": [
    "## Create a train loader and validation loader"
   ]
  },
  {
   "cell_type": "code",
   "execution_count": 10,
   "metadata": {},
   "outputs": [],
   "source": [
    "train_loader = torch.utils.data.DataLoader(dataset=dataset_train, batch_size=100 )\n",
    "\n",
    "test_loader = torch.utils.data.DataLoader(dataset=dataset_val, batch_size=100 )"
   ]
  },
  {
   "cell_type": "markdown",
   "metadata": {},
   "source": [
    "## Create a Convolutional Neural Network object"
   ]
  },
  {
   "cell_type": "code",
   "execution_count": 12,
   "metadata": {},
   "outputs": [],
   "source": [
    "# model = CNN_batch(out_1=16, out_2=32,number_of_classes=10)\n",
    "\n",
    "model = CNN_batch()"
   ]
  },
  {
   "cell_type": "markdown",
   "metadata": {},
   "source": [
    "## Create the objects for the criterion and optimizer\n",
    "\n",
    "Using CrossEntropyLoss, SGD and a learning rate of 0.1\n"
   ]
  },
  {
   "cell_type": "code",
   "execution_count": 13,
   "metadata": {},
   "outputs": [
    {
     "data": {
      "text/plain": [
       "<generator object Module.parameters at 0x0000026B5BEAAEC8>"
      ]
     },
     "execution_count": 13,
     "metadata": {},
     "output_type": "execute_result"
    }
   ],
   "source": [
    "model.parameters()"
   ]
  },
  {
   "cell_type": "code",
   "execution_count": 14,
   "metadata": {},
   "outputs": [
    {
     "data": {
      "text/plain": [
       "[Parameter containing:\n",
       " tensor([[[[-0.0015,  0.1073, -0.1646, -0.1472, -0.0770],\n",
       "           [ 0.0536, -0.0040,  0.1586, -0.0177,  0.0529],\n",
       "           [-0.0604, -0.0393, -0.1911, -0.1325, -0.0824],\n",
       "           [ 0.0074,  0.0791,  0.1200, -0.1356, -0.0871],\n",
       "           [ 0.0726,  0.1661, -0.0412,  0.1497, -0.0322]]],\n",
       " \n",
       " \n",
       "         [[[ 0.0212,  0.1811, -0.1855, -0.1259, -0.0506],\n",
       "           [-0.0780,  0.1728, -0.1296, -0.0921, -0.1397],\n",
       "           [-0.1873, -0.1167,  0.1719,  0.0892,  0.0969],\n",
       "           [ 0.0105, -0.1025,  0.0338, -0.1867, -0.1445],\n",
       "           [-0.1031,  0.1262,  0.1173, -0.0887, -0.0072]]],\n",
       " \n",
       " \n",
       "         [[[ 0.1279,  0.1988,  0.0794,  0.0270,  0.1341],\n",
       "           [-0.1178,  0.0373, -0.1551, -0.1386, -0.1033],\n",
       "           [ 0.0905,  0.0804, -0.1185,  0.0604,  0.1098],\n",
       "           [-0.0252,  0.0076,  0.0463,  0.1241,  0.1920],\n",
       "           [-0.1541, -0.0733,  0.0786,  0.1657,  0.1740]]],\n",
       " \n",
       " \n",
       "         [[[ 0.1765,  0.0398, -0.1739,  0.0184, -0.1251],\n",
       "           [-0.1864,  0.1777,  0.1521, -0.1995,  0.0374],\n",
       "           [-0.0337, -0.0329, -0.0916,  0.0769, -0.1185],\n",
       "           [ 0.0733,  0.1011,  0.1432,  0.0748, -0.1979],\n",
       "           [-0.1297,  0.0999,  0.0419, -0.1560, -0.1152]]],\n",
       " \n",
       " \n",
       "         [[[ 0.1881,  0.1348, -0.0872, -0.0503, -0.1905],\n",
       "           [-0.0036, -0.1506, -0.1543, -0.0110,  0.0300],\n",
       "           [-0.0819,  0.1187, -0.1217,  0.1815,  0.1371],\n",
       "           [-0.1687, -0.0498,  0.0090,  0.0292,  0.0474],\n",
       "           [ 0.0785,  0.0120, -0.0976,  0.0946, -0.1918]]],\n",
       " \n",
       " \n",
       "         [[[-0.1185, -0.0501, -0.0974, -0.0700, -0.1639],\n",
       "           [-0.0425,  0.0428, -0.1303, -0.0103,  0.1432],\n",
       "           [-0.0206,  0.0056, -0.0173,  0.0405,  0.1272],\n",
       "           [ 0.1894,  0.1270,  0.1899, -0.0145, -0.1797],\n",
       "           [-0.0948,  0.1362, -0.0013, -0.0994, -0.1533]]],\n",
       " \n",
       " \n",
       "         [[[-0.1872, -0.1688, -0.0406,  0.1097,  0.1081],\n",
       "           [-0.1929,  0.1248, -0.1565, -0.0423, -0.0811],\n",
       "           [-0.0385, -0.0393, -0.1795, -0.1727, -0.0313],\n",
       "           [ 0.0026, -0.0909,  0.0753, -0.1800, -0.0135],\n",
       "           [ 0.1759, -0.0816,  0.1806,  0.0724, -0.1805]]],\n",
       " \n",
       " \n",
       "         [[[ 0.1265, -0.0231, -0.0893,  0.1599, -0.1616],\n",
       "           [ 0.0215, -0.0419,  0.1428,  0.0558,  0.0961],\n",
       "           [ 0.0706, -0.0481, -0.0421, -0.1648,  0.1084],\n",
       "           [ 0.1588,  0.1368, -0.1411,  0.0089, -0.1410],\n",
       "           [-0.1101, -0.1165,  0.0683, -0.1192, -0.0044]]],\n",
       " \n",
       " \n",
       "         [[[ 0.0084,  0.1289, -0.1512, -0.1373, -0.1161],\n",
       "           [ 0.1400, -0.0719,  0.1687,  0.0723,  0.0253],\n",
       "           [-0.0015, -0.0395,  0.0251, -0.0457, -0.0014],\n",
       "           [ 0.0255, -0.1564, -0.1048,  0.1615, -0.1623],\n",
       "           [-0.0144,  0.1978,  0.0722,  0.0057, -0.1733]]],\n",
       " \n",
       " \n",
       "         [[[ 0.0991, -0.1425, -0.0568, -0.0671, -0.0296],\n",
       "           [ 0.0022,  0.1650,  0.0250,  0.1791,  0.1223],\n",
       "           [-0.1264,  0.0897, -0.1414, -0.0848,  0.0588],\n",
       "           [ 0.0660,  0.1500, -0.0644,  0.0003,  0.1030],\n",
       "           [-0.1934,  0.1446, -0.1654,  0.0028, -0.0340]]],\n",
       " \n",
       " \n",
       "         [[[-0.1053,  0.0264,  0.1654, -0.0585, -0.1187],\n",
       "           [-0.0740, -0.1982,  0.0903, -0.0961, -0.1335],\n",
       "           [-0.1152,  0.1150,  0.1059,  0.1535,  0.0725],\n",
       "           [-0.0668, -0.0559,  0.0591,  0.1644,  0.0544],\n",
       "           [-0.0946, -0.0940, -0.1891,  0.0432, -0.1122]]],\n",
       " \n",
       " \n",
       "         [[[-0.1783,  0.1754, -0.1299, -0.0228,  0.0573],\n",
       "           [ 0.0064, -0.1346, -0.1617,  0.1594,  0.0326],\n",
       "           [ 0.1659, -0.0670,  0.0589, -0.0457, -0.0089],\n",
       "           [-0.1218,  0.0676,  0.0632, -0.0041, -0.0450],\n",
       "           [-0.1233,  0.1383, -0.1489,  0.0819, -0.0673]]],\n",
       " \n",
       " \n",
       "         [[[-0.0965,  0.0359, -0.1039,  0.0461,  0.0393],\n",
       "           [-0.1485,  0.0333,  0.0852,  0.0792, -0.0252],\n",
       "           [-0.1640, -0.0308,  0.0695, -0.0730,  0.0759],\n",
       "           [ 0.1332, -0.1044,  0.0020,  0.0827,  0.0157],\n",
       "           [ 0.0167,  0.0250, -0.1572,  0.0157,  0.1385]]],\n",
       " \n",
       " \n",
       "         [[[ 0.1802,  0.1176,  0.0268,  0.0934, -0.0973],\n",
       "           [-0.1657, -0.1720,  0.1995,  0.1270, -0.1382],\n",
       "           [ 0.0782,  0.1510,  0.1999,  0.1749,  0.1550],\n",
       "           [-0.0459, -0.0702,  0.1642,  0.1121, -0.1204],\n",
       "           [ 0.1798,  0.0966,  0.1090, -0.1254,  0.0574]]],\n",
       " \n",
       " \n",
       "         [[[-0.0701,  0.1563, -0.0360,  0.0779,  0.0355],\n",
       "           [ 0.0851, -0.0680,  0.0975, -0.1397,  0.0452],\n",
       "           [-0.1353, -0.1973, -0.1606,  0.1579,  0.1082],\n",
       "           [ 0.1876,  0.1602, -0.1786, -0.1365, -0.0323],\n",
       "           [-0.1299,  0.1389, -0.1512, -0.0976, -0.1932]]],\n",
       " \n",
       " \n",
       "         [[[-0.1135,  0.1645,  0.1638,  0.1432,  0.1544],\n",
       "           [ 0.1778, -0.0512,  0.0880,  0.1782,  0.0662],\n",
       "           [ 0.1999,  0.1037,  0.1243, -0.0700,  0.0960],\n",
       "           [ 0.0230, -0.0478, -0.1127, -0.1122, -0.1539],\n",
       "           [ 0.1343,  0.1422, -0.0228, -0.1157,  0.1546]]]], requires_grad=True),\n",
       " Parameter containing:\n",
       " tensor([ 0.1279,  0.0149, -0.0944,  0.1838,  0.0818, -0.1518,  0.1914,  0.1519,\n",
       "         -0.0729,  0.1124, -0.1136, -0.0313,  0.1698,  0.0083, -0.1414, -0.0668],\n",
       "        requires_grad=True),\n",
       " Parameter containing:\n",
       " tensor([1., 1., 1., 1., 1., 1., 1., 1., 1., 1., 1., 1., 1., 1., 1., 1.],\n",
       "        requires_grad=True),\n",
       " Parameter containing:\n",
       " tensor([0., 0., 0., 0., 0., 0., 0., 0., 0., 0., 0., 0., 0., 0., 0., 0.],\n",
       "        requires_grad=True),\n",
       " Parameter containing:\n",
       " tensor([[[[-1.3572e-02, -9.6464e-03,  4.7850e-03,  4.6241e-02,  2.6770e-03],\n",
       "           [-3.0872e-02,  2.5627e-03,  2.3974e-02,  2.4802e-02, -4.5697e-02],\n",
       "           [-8.9471e-03, -3.7157e-02, -2.1334e-02,  1.8015e-02, -3.5507e-02],\n",
       "           [ 1.8586e-02,  4.2439e-02,  3.2794e-03, -3.3324e-02, -1.7914e-02],\n",
       "           [ 1.0918e-02, -3.8116e-02,  2.4841e-02, -4.5393e-02, -4.8065e-02]],\n",
       " \n",
       "          [[-4.8583e-02, -1.0143e-02,  3.3622e-02, -4.7324e-02,  4.1559e-02],\n",
       "           [-2.0001e-02,  1.4644e-02,  2.2801e-03, -4.5086e-02,  4.1466e-02],\n",
       "           [ 2.6922e-02,  4.9700e-02,  2.5261e-02, -3.3003e-02,  4.1729e-02],\n",
       "           [ 2.6872e-03,  2.3711e-02, -4.0091e-02, -1.4381e-02, -4.9094e-02],\n",
       "           [-1.9475e-02,  1.0787e-02, -3.9258e-02,  1.5938e-02,  2.6840e-02]],\n",
       " \n",
       "          [[ 6.9655e-03, -3.3454e-02, -3.8766e-02, -1.5426e-02,  2.1948e-02],\n",
       "           [ 4.9320e-02,  2.8751e-02, -5.6305e-03,  1.7531e-02, -4.9053e-02],\n",
       "           [-4.2705e-02,  2.3330e-02, -2.8321e-02,  2.4055e-02, -3.5297e-02],\n",
       "           [-2.4766e-02, -4.1184e-02,  2.6092e-02, -5.0948e-03,  3.8480e-02],\n",
       "           [ 3.0944e-02,  2.7667e-02,  1.6078e-03, -1.5459e-02, -1.0872e-02]],\n",
       " \n",
       "          ...,\n",
       " \n",
       "          [[ 3.0460e-03,  3.9642e-02, -1.4149e-02,  2.3533e-02,  4.2966e-02],\n",
       "           [ 3.3163e-02, -2.6228e-02, -5.4810e-03, -1.5734e-02, -4.0206e-02],\n",
       "           [ 2.0660e-05,  3.7622e-02,  4.2126e-02,  4.6650e-03,  1.1356e-02],\n",
       "           [-2.1646e-02,  3.7742e-02, -2.0805e-02, -3.4733e-02,  7.6997e-03],\n",
       "           [ 2.9969e-02, -4.5080e-02,  4.5198e-02,  1.7987e-02, -3.5031e-02]],\n",
       " \n",
       "          [[-1.0770e-02,  4.3379e-02, -3.8362e-02, -1.4614e-02,  1.6399e-02],\n",
       "           [-4.3804e-02,  2.7410e-02,  2.6027e-02,  3.1010e-02, -3.1877e-02],\n",
       "           [ 4.9800e-02, -2.9638e-02,  4.9917e-02, -4.7985e-02, -4.4549e-02],\n",
       "           [ 3.0710e-02,  5.2256e-03,  2.8845e-03, -2.7688e-02, -2.0974e-02],\n",
       "           [-1.4619e-02, -4.8708e-02,  2.5984e-03,  8.8429e-03, -4.2330e-05]],\n",
       " \n",
       "          [[ 1.6147e-02,  4.7443e-02,  1.3294e-02, -1.8304e-02, -2.0577e-02],\n",
       "           [-3.1990e-02, -3.4661e-02, -8.0525e-03, -8.8433e-03,  2.2243e-02],\n",
       "           [-2.1372e-02,  3.9860e-02, -3.5084e-02,  1.4211e-04,  4.4946e-02],\n",
       "           [ 4.9719e-02, -2.8963e-02,  8.9064e-03,  5.9061e-03, -2.3443e-02],\n",
       "           [-1.7275e-02,  1.3543e-02, -3.4768e-02,  8.2498e-03,  2.1636e-02]]],\n",
       " \n",
       " \n",
       "         [[[-1.9704e-02,  4.1532e-02, -3.2905e-03,  2.2686e-02,  4.9515e-02],\n",
       "           [-1.5283e-02,  2.7170e-02, -1.4301e-02, -7.3036e-03, -8.4736e-03],\n",
       "           [-3.1063e-04, -1.8888e-02,  1.1719e-02,  1.8840e-03,  3.1694e-02],\n",
       "           [-1.0120e-02,  5.0140e-03, -1.8600e-02, -4.1873e-02,  2.0233e-02],\n",
       "           [ 6.3979e-03, -2.0024e-02, -1.6905e-02,  1.3076e-02, -9.0408e-03]],\n",
       " \n",
       "          [[ 3.2674e-02,  2.8322e-03,  1.8887e-02,  2.1785e-02, -1.2268e-02],\n",
       "           [ 2.1633e-02,  3.6897e-02,  2.3009e-03,  9.7846e-03,  1.8168e-03],\n",
       "           [ 3.4618e-02, -2.1110e-02, -2.6578e-02,  2.1788e-02, -4.3516e-02],\n",
       "           [ 8.0162e-04, -2.2995e-02,  3.3002e-02, -4.6552e-02,  3.0317e-02],\n",
       "           [ 4.9468e-02,  1.0117e-02, -3.3313e-03,  4.9217e-02, -2.1368e-02]],\n",
       " \n",
       "          [[-4.0067e-03, -2.1895e-02, -6.9021e-03,  1.0867e-02,  6.6781e-03],\n",
       "           [-9.4437e-03, -4.9992e-02,  2.5602e-03, -1.4811e-03,  7.5218e-03],\n",
       "           [ 3.8313e-02,  4.8600e-02, -2.9664e-02, -3.1177e-03, -2.0034e-02],\n",
       "           [-4.6082e-02, -3.6383e-02,  4.6928e-02,  2.9153e-02,  2.6858e-02],\n",
       "           [ 2.7787e-02, -3.9724e-02,  5.2510e-03,  4.6536e-02, -2.7904e-02]],\n",
       " \n",
       "          ...,\n",
       " \n",
       "          [[ 2.2118e-02, -2.7534e-02, -2.5407e-02,  2.4163e-02, -4.7909e-02],\n",
       "           [ 1.1848e-02, -3.8709e-02,  2.4853e-02, -4.2752e-02,  3.0740e-02],\n",
       "           [-4.7332e-02, -4.2028e-02,  7.3684e-04,  3.9399e-02, -4.2820e-02],\n",
       "           [-2.2303e-02,  4.3914e-02, -8.3849e-03,  2.0714e-02, -4.8100e-02],\n",
       "           [-1.5724e-02, -2.5392e-02,  4.2153e-02,  2.0752e-02, -3.6484e-02]],\n",
       " \n",
       "          [[ 8.0613e-03, -5.7467e-04, -2.0543e-02, -2.8554e-02, -1.6592e-02],\n",
       "           [ 3.9411e-02, -3.5843e-02, -3.5617e-02, -1.5426e-02,  8.6982e-04],\n",
       "           [ 1.3611e-02,  1.5004e-03, -1.2036e-02, -3.0318e-02, -8.9716e-03],\n",
       "           [-2.0128e-02,  4.0396e-02, -4.8670e-02, -3.1893e-02, -4.0680e-02],\n",
       "           [-9.1378e-03,  3.8964e-02,  4.3827e-02, -4.3528e-02, -2.1663e-03]],\n",
       " \n",
       "          [[ 2.9348e-02,  2.2040e-02,  4.0955e-02, -1.3869e-03, -3.3595e-02],\n",
       "           [ 3.3077e-02, -1.7146e-02,  2.5889e-02, -1.2322e-02,  2.1255e-02],\n",
       "           [ 4.4971e-02,  4.6493e-02, -4.5503e-02, -3.3074e-02, -2.0673e-02],\n",
       "           [-3.1885e-02,  4.7975e-02, -4.4159e-03, -3.3167e-02, -2.2249e-02],\n",
       "           [-2.7618e-02,  2.0399e-02, -4.3613e-02, -4.6620e-02, -4.9288e-02]]],\n",
       " \n",
       " \n",
       "         [[[ 2.1526e-02,  2.4723e-02, -3.1054e-02,  1.2399e-02,  3.6909e-02],\n",
       "           [ 7.2651e-03, -1.0579e-02,  3.6941e-03, -5.3614e-03,  2.5175e-02],\n",
       "           [-3.3951e-02,  2.5355e-02,  2.8181e-02, -3.0294e-02,  4.0828e-02],\n",
       "           [ 4.9109e-02, -1.9711e-02, -1.4005e-02,  2.4918e-02, -3.9171e-02],\n",
       "           [ 1.9773e-02,  1.1665e-02,  3.1516e-02, -4.3430e-02, -4.1539e-02]],\n",
       " \n",
       "          [[ 2.2456e-02,  1.8011e-02, -4.6538e-02, -2.7883e-02, -4.5749e-02],\n",
       "           [-3.5821e-02, -2.2560e-02,  4.1377e-02, -9.9525e-03,  2.8718e-02],\n",
       "           [ 4.7484e-02,  2.2787e-02, -4.4761e-02,  2.5161e-02,  1.9072e-02],\n",
       "           [ 3.8753e-02, -4.9322e-02,  3.0751e-02,  4.0927e-02, -4.6518e-02],\n",
       "           [ 5.2313e-03,  4.2684e-02, -3.6365e-02,  1.6406e-02,  2.2094e-02]],\n",
       " \n",
       "          [[ 1.3105e-02,  4.9714e-02,  4.0939e-02,  4.2898e-02, -6.2323e-03],\n",
       "           [ 4.1936e-02, -4.6596e-02, -2.6981e-02, -1.0694e-02, -1.4853e-02],\n",
       "           [ 4.6185e-02,  2.3583e-02,  3.2191e-02,  3.4010e-02, -3.7350e-02],\n",
       "           [-5.7910e-03,  7.3012e-03,  1.3005e-02,  2.5712e-02, -1.9895e-02],\n",
       "           [-1.5077e-02,  4.1837e-02, -1.3419e-02, -3.4732e-02,  3.3902e-02]],\n",
       " \n",
       "          ...,\n",
       " \n",
       "          [[-3.4607e-02,  1.9171e-02,  4.5034e-02, -8.6941e-03,  3.9695e-02],\n",
       "           [ 8.2422e-04, -3.7442e-02, -2.7431e-02,  1.8611e-02, -2.1637e-02],\n",
       "           [ 1.2026e-02,  4.9213e-02,  1.6984e-02, -4.6795e-03,  1.2498e-02],\n",
       "           [-2.8807e-02, -4.2013e-02, -3.7585e-02, -4.1955e-02,  1.0261e-02],\n",
       "           [ 9.7392e-03, -2.1248e-02, -4.8908e-02,  2.7085e-02, -2.8370e-02]],\n",
       " \n",
       "          [[-8.3474e-03, -4.1924e-02, -2.8208e-02,  2.0858e-02, -4.6586e-02],\n",
       "           [-2.8512e-02,  3.7487e-02, -2.5642e-02, -2.0808e-02, -1.4039e-02],\n",
       "           [ 2.1373e-02, -3.2798e-02,  5.0133e-03,  2.0420e-02, -3.6297e-03],\n",
       "           [ 9.0409e-03, -3.8142e-02,  2.2605e-02,  1.8686e-02, -6.2716e-03],\n",
       "           [-4.1344e-02,  1.9999e-02,  3.2627e-02, -8.7454e-03,  2.3567e-02]],\n",
       " \n",
       "          [[ 1.8533e-02, -1.9998e-02, -3.4710e-03,  4.9772e-02,  2.3605e-04],\n",
       "           [-3.9806e-02, -3.6464e-03,  2.4875e-02, -1.6321e-02, -2.6184e-02],\n",
       "           [ 4.1189e-02,  2.6451e-02, -8.4946e-03,  2.5544e-03, -5.2881e-03],\n",
       "           [ 1.1608e-02,  1.7770e-03, -3.0257e-02,  9.2637e-03,  1.3077e-03],\n",
       "           [ 3.2327e-03, -1.9054e-02,  1.2811e-02, -4.0432e-02,  1.4946e-02]]],\n",
       " \n",
       " \n",
       "         ...,\n",
       " \n",
       " \n",
       "         [[[ 1.5726e-02,  3.7290e-02,  3.4548e-02, -2.8074e-02,  4.1526e-03],\n",
       "           [ 3.5076e-02, -4.7676e-02, -6.2900e-03, -4.1899e-02, -4.5370e-02],\n",
       "           [-2.4143e-02, -2.1206e-02,  4.9921e-02,  6.7883e-04, -1.8713e-02],\n",
       "           [ 8.4751e-04,  2.2604e-02,  4.6619e-02,  4.5263e-03,  3.8380e-02],\n",
       "           [ 4.1222e-03,  3.2114e-02, -4.4725e-02,  3.9256e-02, -1.7269e-02]],\n",
       " \n",
       "          [[-2.1108e-02, -3.3577e-02,  2.0715e-02,  4.3822e-02,  2.5408e-02],\n",
       "           [ 2.6326e-02, -2.4074e-02, -3.8194e-02,  9.3033e-04, -1.5438e-02],\n",
       "           [ 2.8277e-02,  1.3927e-02, -4.3627e-03, -3.6468e-02,  2.3806e-02],\n",
       "           [-1.9587e-02,  3.2005e-03, -1.2696e-02,  4.5234e-02,  2.6866e-02],\n",
       "           [-2.6670e-02,  9.9277e-03, -1.9656e-02, -1.0122e-02,  3.0891e-02]],\n",
       " \n",
       "          [[-3.2216e-03,  2.9837e-03,  4.1493e-02,  1.4254e-02,  2.3634e-02],\n",
       "           [-2.6830e-02,  4.3622e-02,  2.4699e-02, -2.8928e-02, -4.4261e-02],\n",
       "           [-8.6209e-03, -4.5035e-02,  7.9127e-03,  3.5933e-02, -3.4134e-02],\n",
       "           [-4.5599e-02,  3.1340e-02, -3.1965e-02,  5.4411e-03, -1.4411e-02],\n",
       "           [ 2.6535e-02,  4.0018e-02,  3.6656e-02, -4.9379e-02, -2.1567e-02]],\n",
       " \n",
       "          ...,\n",
       " \n",
       "          [[-4.2951e-04, -1.7650e-02,  3.3224e-03,  1.4814e-02,  1.5024e-02],\n",
       "           [ 2.8178e-02,  9.4853e-03,  1.7022e-02, -6.6996e-03, -1.3129e-02],\n",
       "           [ 2.3051e-02,  3.9388e-02,  5.2444e-04, -3.8779e-02,  1.6112e-02],\n",
       "           [-3.9282e-02,  1.6178e-02,  4.7677e-02, -3.3827e-02, -6.9143e-03],\n",
       "           [ 4.6841e-02,  2.0204e-02,  4.7779e-02, -2.3579e-02, -5.6184e-03]],\n",
       " \n",
       "          [[-3.4239e-02, -2.7126e-02,  1.0749e-02,  4.0498e-02,  4.4694e-02],\n",
       "           [-1.8625e-02,  4.2405e-02, -3.5667e-02, -4.6830e-02,  6.5971e-03],\n",
       "           [ 4.6581e-02,  3.8246e-02, -3.6482e-02, -1.0425e-02,  4.4240e-02],\n",
       "           [ 2.6150e-02,  1.0618e-03, -2.2320e-02,  3.1660e-02,  4.2229e-02],\n",
       "           [ 3.2286e-02,  2.1017e-02, -2.2602e-02, -4.8583e-02,  4.5054e-02]],\n",
       " \n",
       "          [[ 1.1684e-02,  6.3054e-03,  1.8745e-02, -1.8856e-02, -3.6239e-02],\n",
       "           [ 2.7295e-02, -6.0292e-03, -4.7847e-02, -9.3974e-03, -7.5133e-03],\n",
       "           [-3.6505e-02, -3.9585e-02, -1.1562e-02, -4.1536e-02,  2.5405e-02],\n",
       "           [-4.8291e-02, -2.2694e-02, -3.6383e-02, -1.7776e-02, -4.9604e-02],\n",
       "           [-1.4008e-02, -3.3163e-02,  3.0738e-02, -4.1771e-02,  4.6911e-02]]],\n",
       " \n",
       " \n",
       "         [[[ 4.7036e-02,  1.3161e-02, -4.5299e-03, -2.9623e-02, -2.2222e-02],\n",
       "           [-3.3829e-02,  7.5664e-03,  4.7420e-02, -1.6725e-02, -2.0753e-02],\n",
       "           [ 1.1101e-02, -4.6797e-02, -1.6995e-02, -3.4788e-02, -3.5988e-02],\n",
       "           [-1.5096e-02,  3.8825e-02,  2.1272e-02,  1.3906e-02,  4.1674e-02],\n",
       "           [ 2.9195e-02, -5.8959e-04,  1.2387e-02, -6.8997e-03,  2.4447e-02]],\n",
       " \n",
       "          [[ 1.1212e-02,  1.9969e-02, -4.6776e-02, -6.7775e-03,  2.6585e-02],\n",
       "           [ 1.8716e-02,  1.2463e-02, -2.0333e-02,  3.2382e-02, -1.0704e-02],\n",
       "           [-2.7135e-02, -3.5706e-02,  4.3997e-04, -3.9481e-02,  3.1280e-02],\n",
       "           [ 6.6488e-03, -1.0589e-02,  4.3222e-02, -8.7367e-04,  5.9137e-03],\n",
       "           [ 3.2778e-02,  8.4502e-03,  2.4799e-04,  4.5734e-02, -3.8399e-02]],\n",
       " \n",
       "          [[ 2.4718e-02,  1.2679e-02, -7.7514e-03,  1.6346e-02,  4.0956e-03],\n",
       "           [-3.1098e-02, -3.3791e-02, -2.5098e-02,  4.5136e-02,  3.9045e-02],\n",
       "           [-5.3463e-03,  2.5237e-02,  3.0279e-02,  4.2130e-02,  1.3243e-02],\n",
       "           [ 3.8148e-02, -1.3392e-02,  1.0522e-02, -3.0462e-02, -4.1757e-02],\n",
       "           [-1.0837e-02, -4.0253e-02,  1.6606e-02,  3.2843e-02,  1.0050e-02]],\n",
       " \n",
       "          ...,\n",
       " \n",
       "          [[-1.0732e-02, -4.9789e-03,  2.3094e-02, -5.8869e-03, -2.4215e-03],\n",
       "           [ 2.3575e-02,  4.7555e-02, -2.2284e-02,  1.8495e-03, -1.4166e-02],\n",
       "           [ 2.9432e-03,  3.0529e-02,  3.6021e-02, -9.8848e-03, -2.7595e-02],\n",
       "           [ 2.3781e-02, -3.5245e-02, -4.9510e-02, -2.0900e-02, -3.6311e-02],\n",
       "           [-3.4078e-02,  2.0805e-02,  1.1337e-02,  2.5588e-02,  1.1144e-02]],\n",
       " \n",
       "          [[ 1.0660e-02,  3.6883e-02,  2.7719e-02, -3.5458e-02,  4.6122e-02],\n",
       "           [ 1.7471e-02,  4.4613e-02,  4.1552e-02, -1.7191e-02, -3.2584e-03],\n",
       "           [ 1.4637e-02, -4.4210e-02, -1.9850e-02, -4.3664e-02,  1.1070e-02],\n",
       "           [ 5.4528e-03,  3.4986e-02, -4.6181e-02,  3.6862e-02,  2.5988e-02],\n",
       "           [-9.6373e-03, -4.9721e-02, -2.7563e-03, -1.6877e-02, -2.6400e-02]],\n",
       " \n",
       "          [[-1.9620e-02, -1.1054e-02, -1.4345e-02, -1.3966e-03, -3.5877e-02],\n",
       "           [ 1.7749e-02, -2.1830e-02, -3.5876e-02, -1.3086e-03, -4.9785e-03],\n",
       "           [-4.2624e-02,  4.6648e-02, -3.9469e-02,  4.1260e-02,  5.5539e-03],\n",
       "           [-3.8136e-02, -3.8441e-02, -1.9139e-02,  4.7797e-02,  4.5118e-02],\n",
       "           [ 2.4936e-02,  4.6565e-02,  3.0139e-02,  1.4449e-02,  4.4739e-02]]],\n",
       " \n",
       " \n",
       "         [[[ 2.9590e-02,  8.2886e-03,  1.8047e-02,  3.4966e-03, -2.1547e-02],\n",
       "           [ 2.3098e-02,  2.3800e-02,  3.0387e-02,  3.5474e-02,  4.5283e-02],\n",
       "           [ 1.4231e-02, -1.5847e-02,  1.6467e-02,  2.6682e-02, -3.5564e-02],\n",
       "           [-2.9882e-02, -3.8398e-02, -2.7215e-02,  4.6810e-02,  2.6038e-02],\n",
       "           [-3.5123e-03, -3.6100e-02,  1.4303e-02,  8.9497e-03,  6.3843e-04]],\n",
       " \n",
       "          [[-3.2577e-02,  4.9052e-02,  6.6945e-03, -3.8314e-02,  2.8615e-02],\n",
       "           [-8.7266e-03, -3.4436e-02, -3.6053e-02, -3.9579e-03, -2.6471e-02],\n",
       "           [-3.3564e-02,  2.2707e-02, -2.3477e-03, -3.1648e-02,  2.2901e-03],\n",
       "           [-4.8844e-02,  3.9646e-02, -4.5572e-02, -2.8903e-02, -1.0106e-02],\n",
       "           [-4.7558e-02, -4.3190e-02, -3.8499e-02, -3.1665e-02,  1.4888e-02]],\n",
       " \n",
       "          [[ 2.7842e-02, -3.4374e-02,  2.3496e-02, -2.2331e-02,  3.6625e-02],\n",
       "           [-1.2267e-02,  2.2136e-02,  1.3186e-02, -1.6953e-02,  5.3484e-03],\n",
       "           [ 2.3914e-02,  3.1945e-02,  1.1035e-02,  2.3717e-02,  1.5244e-02],\n",
       "           [ 3.9813e-02, -3.4338e-02, -2.1565e-02, -1.0606e-04,  3.0865e-02],\n",
       "           [-4.9098e-02,  2.2211e-02,  4.7826e-02,  3.2310e-02,  4.4181e-02]],\n",
       " \n",
       "          ...,\n",
       " \n",
       "          [[ 3.7667e-02,  3.0972e-02,  8.5909e-04, -4.9964e-02, -3.9071e-02],\n",
       "           [ 3.5323e-02,  4.7902e-03, -8.2040e-03, -3.2107e-02, -2.3297e-02],\n",
       "           [ 4.1780e-02,  2.3803e-02,  3.9471e-03,  3.8149e-02, -2.9189e-02],\n",
       "           [-1.6879e-02,  1.7733e-02, -3.8058e-02,  4.4258e-02,  3.2384e-02],\n",
       "           [ 8.3349e-03, -3.9546e-02,  3.7431e-02, -1.8139e-02, -7.9319e-03]],\n",
       " \n",
       "          [[ 4.1683e-02, -1.0950e-02,  4.7443e-02, -5.1723e-03, -2.9937e-02],\n",
       "           [-1.1266e-02, -4.6585e-02,  3.0483e-02,  2.3725e-02,  9.0825e-03],\n",
       "           [-4.3780e-02,  1.6112e-02,  2.8395e-02,  4.2936e-02, -2.1064e-02],\n",
       "           [ 2.0121e-02,  2.3399e-02, -6.3238e-03,  4.5007e-03,  3.1602e-02],\n",
       "           [ 4.1513e-03, -1.4763e-02,  1.9247e-02,  3.3504e-03, -1.6757e-02]],\n",
       " \n",
       "          [[-5.0668e-03,  2.9087e-02,  4.9434e-02, -1.3200e-02,  3.8806e-02],\n",
       "           [ 4.8258e-02,  2.9379e-02,  2.4576e-02, -4.2201e-02, -2.3107e-02],\n",
       "           [-2.0625e-02,  4.8677e-02,  7.9324e-03, -4.2510e-02, -4.4402e-02],\n",
       "           [-4.2989e-02, -3.6273e-02, -3.0196e-02, -2.6630e-02,  3.7170e-02],\n",
       "           [-2.0518e-02,  4.5987e-02, -1.1434e-02, -4.0393e-02, -1.8339e-02]]]],\n",
       "        requires_grad=True),\n",
       " Parameter containing:\n",
       " tensor([-0.0222, -0.0344, -0.0466,  0.0017, -0.0388, -0.0144, -0.0131, -0.0289,\n",
       "         -0.0019, -0.0387, -0.0163,  0.0443,  0.0462,  0.0040,  0.0116,  0.0444,\n",
       "          0.0480, -0.0236,  0.0079, -0.0099, -0.0343,  0.0444,  0.0397,  0.0022,\n",
       "          0.0412,  0.0134,  0.0330,  0.0212,  0.0237,  0.0178,  0.0251,  0.0439],\n",
       "        requires_grad=True),\n",
       " Parameter containing:\n",
       " tensor([1., 1., 1., 1., 1., 1., 1., 1., 1., 1., 1., 1., 1., 1., 1., 1., 1., 1.,\n",
       "         1., 1., 1., 1., 1., 1., 1., 1., 1., 1., 1., 1., 1., 1.],\n",
       "        requires_grad=True),\n",
       " Parameter containing:\n",
       " tensor([0., 0., 0., 0., 0., 0., 0., 0., 0., 0., 0., 0., 0., 0., 0., 0., 0., 0., 0., 0., 0., 0., 0., 0.,\n",
       "         0., 0., 0., 0., 0., 0., 0., 0.], requires_grad=True),\n",
       " Parameter containing:\n",
       " tensor([[ 0.0173, -0.0282,  0.0163,  ..., -0.0029, -0.0272,  0.0116],\n",
       "         [ 0.0314, -0.0335, -0.0299,  ...,  0.0275, -0.0019,  0.0371],\n",
       "         [-0.0225,  0.0433,  0.0281,  ..., -0.0333,  0.0037, -0.0128],\n",
       "         ...,\n",
       "         [ 0.0280, -0.0027,  0.0319,  ..., -0.0281,  0.0337, -0.0149],\n",
       "         [-0.0432,  0.0413, -0.0238,  ..., -0.0033,  0.0348,  0.0339],\n",
       "         [ 0.0282, -0.0247, -0.0010,  ..., -0.0198, -0.0362,  0.0345]],\n",
       "        requires_grad=True),\n",
       " Parameter containing:\n",
       " tensor([ 0.0069, -0.0323, -0.0273, -0.0101,  0.0373, -0.0182,  0.0399,  0.0242,\n",
       "         -0.0318, -0.0397], requires_grad=True),\n",
       " Parameter containing:\n",
       " tensor([1., 1., 1., 1., 1., 1., 1., 1., 1., 1.], requires_grad=True),\n",
       " Parameter containing:\n",
       " tensor([0., 0., 0., 0., 0., 0., 0., 0., 0., 0.], requires_grad=True)]"
      ]
     },
     "execution_count": 14,
     "metadata": {},
     "output_type": "execute_result"
    }
   ],
   "source": [
    "list(model.parameters())"
   ]
  },
  {
   "cell_type": "code",
   "execution_count": 15,
   "metadata": {},
   "outputs": [],
   "source": [
    "optimizer = torch.optim.SGD(model.parameters(), lr=0.1)\n",
    "\n",
    "criterion = nn.CrossEntropyLoss()"
   ]
  },
  {
   "cell_type": "markdown",
   "metadata": {},
   "source": [
    "## Training the Model"
   ]
  },
  {
   "cell_type": "code",
   "execution_count": 16,
   "metadata": {},
   "outputs": [],
   "source": [
    "import time\n",
    "start_time = time.time()\n",
    "\n",
    "cost_list=[]\n",
    "accuracy_list=[]\n",
    "N_test=len(dataset_val)\n",
    "n_epochs=5\n",
    "for epoch in range(n_epochs):\n",
    "    cost=0\n",
    "    model.train()\n",
    "    for x, y in train_loader:\n",
    "        optimizer.zero_grad()\n",
    "        z = model(x)\n",
    "        loss = criterion(z, y)\n",
    "        loss.backward()\n",
    "        optimizer.step()\n",
    "        cost+=loss.item()\n",
    "    correct=0\n",
    "    #perform a prediction on the validation  data \n",
    "    model.eval()\n",
    "    for x_test, y_test in test_loader:\n",
    "        z = model(x_test)\n",
    "        _, yhat = torch.max(z.data, 1)\n",
    "        correct += (yhat == y_test).sum().item()\n",
    "    accuracy = correct / N_test\n",
    "    accuracy_list.append(accuracy)\n",
    "    cost_list.append(cost)"
   ]
  },
  {
   "cell_type": "markdown",
   "metadata": {},
   "source": [
    "## Plotting the accuracy and cost for each epoch of the trainig and testing data"
   ]
  },
  {
   "cell_type": "code",
   "execution_count": 17,
   "metadata": {},
   "outputs": [
    {
     "data": {
      "image/png": "[encoded data removed]",
      "text/plain": [
       "<Figure size 432x288 with 2 Axes>"
      ]
     },
     "metadata": {
      "needs_background": "light"
     },
     "output_type": "display_data"
    }
   ],
   "source": [
    "fig, ax1 = plt.subplots()\n",
    "color = 'tab:red'\n",
    "ax1.plot(cost_list, color=color)\n",
    "ax1.set_xlabel('epoch', color=color)\n",
    "ax1.set_ylabel('Cost', color=color)\n",
    "ax1.tick_params(axis='y', color=color)\n",
    "    \n",
    "ax2 = ax1.twinx()  \n",
    "color = 'tab:blue'\n",
    "ax2.set_ylabel('accuracy', color=color) \n",
    "ax2.set_xlabel('epoch', color=color)\n",
    "ax2.plot( accuracy_list, color=color)\n",
    "ax2.tick_params(axis='y', color=color)\n",
    "fig.tight_layout()"
   ]
  },
  {
   "cell_type": "markdown",
   "metadata": {},
   "source": [
    "dataset: https://github.com/zalandoresearch/fashion-mnist"
   ]
  },
  {
   "cell_type": "markdown",
   "metadata": {},
   "source": [
    "This notebook is an adaptation of IBM/Coursera Deep Neural Networks with PyTorch Honors Project, part of the IBM AI Engineering Professional Certificate\n",
    "https://www.coursera.org/"
   ]
  }
 ],
 "metadata": {
  "kernelspec": {
   "display_name": "Python 3",
   "language": "python",
   "name": "python3"
  },
  "language_info": {
   "codemirror_mode": {
    "name": "ipython",
    "version": 3
   },
   "file_extension": ".py",
   "mimetype": "text/x-python",
   "name": "python",
   "nbconvert_exporter": "python",
   "pygments_lexer": "ipython3",
   "version": "3.7.4"
  }
 },
 "nbformat": 4,
 "nbformat_minor": 2
}
